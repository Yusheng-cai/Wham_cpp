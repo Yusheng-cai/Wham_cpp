{
 "cells": [
  {
   "cell_type": "code",
   "execution_count": 1,
   "metadata": {},
   "outputs": [],
   "source": [
    "from wham.Uwham import *\n",
    "from wham.lib.wham_utils import read_dat\n",
    "import numpy as np"
   ]
  },
  {
   "cell_type": "code",
   "execution_count": 2,
   "metadata": {},
   "outputs": [],
   "source": [
    "N = [-5.0, 0.0, 5.0, 10.0, 15.0, 20.0, 25.0, \"unbiased\"]\n",
    "Ntwiddle = np.array([-5,0,5,10,15,20,25,0])\n",
    "Ntwiddle = Ntwiddle[:,np.newaxis]"
   ]
  },
  {
   "cell_type": "code",
   "execution_count": 9,
   "metadata": {},
   "outputs": [],
   "source": [
    "data_list = []\n",
    "Ni = []\n",
    "for n in N:\n",
    "    if n != \"unbiased\":\n",
    "        n, ntilde, _ = read_dat(\"nstar_{}\".format(n))\n",
    "        data_list.append(ntilde[500:])\n",
    "        Ni.append(ntilde[500:].shape[0])\n",
    "    else:\n",
    "        n, ntilde, _  = read_dat(\"unbiased\")\n",
    "        data_list.append(ntilde[500:])\n",
    "        Ni.append(ntilde[500:].shape[0])"
   ]
  },
  {
   "cell_type": "code",
   "execution_count": 10,
   "metadata": {},
   "outputs": [],
   "source": [
    "xi = np.concatenate(data_list)\n",
    "xi = xi[:,np.newaxis]"
   ]
  },
  {
   "cell_type": "code",
   "execution_count": 11,
   "metadata": {},
   "outputs": [],
   "source": [
    "k = np.ones((len(N),1))*0.98\n",
    "k[-1] = 0"
   ]
  },
  {
   "cell_type": "code",
   "execution_count": 12,
   "metadata": {},
   "outputs": [],
   "source": [
    "Ni = np.array(Ni)\n",
    "Ntot = Ni.sum()"
   ]
  },
  {
   "cell_type": "code",
   "execution_count": 13,
   "metadata": {},
   "outputs": [],
   "source": [
    "u = Uwham(xi, k, Ntwiddle, Ni)"
   ]
  },
  {
   "cell_type": "code",
   "execution_count": null,
   "metadata": {},
   "outputs": [],
   "source": [
    "fk = np.zeros((len(N),))\n",
    "Uwham.gradient(fk, u.buji, Ni.flatten())"
   ]
  },
  {
   "cell_type": "code",
   "execution_count": null,
   "metadata": {},
   "outputs": [],
   "source": [
    "-logsumexp(np.repeat(fk[:,np.newaxis],Ntot,axis=1)-u.buji,b=np.repeat(Ni.flatten()[:,np.newaxis],Ntot,axis=1),axis=0)"
   ]
  },
  {
   "cell_type": "code",
   "execution_count": null,
   "metadata": {},
   "outputs": [],
   "source": [
    "p = np.repeat(fk[:,np.newaxis],Ntot,axis=1)-u.buji"
   ]
  },
  {
   "cell_type": "code",
   "execution_count": null,
   "metadata": {},
   "outputs": [],
   "source": [
    "Uwham.Hessian(fk, u.buji, Ni.flatten())"
   ]
  },
  {
   "cell_type": "code",
   "execution_count": 21,
   "metadata": {},
   "outputs": [
    {
     "name": "stdout",
     "output_type": "stream",
     "text": [
      "Optimization has converged\n"
     ]
    },
    {
     "data": {
      "text/plain": [
       "(array([-53.09027424, -56.51728081, -55.64051174, ...,  -9.03489145,\n",
       "         -7.14370609,  -8.21879677]),\n",
       " array([56.30978524, 45.06043295, 35.767117  , 26.19732773, 15.90859698,\n",
       "         7.48039071,  2.29559624,  0.        ]))"
      ]
     },
     "execution_count": 21,
     "metadata": {},
     "output_type": "execute_result"
    }
   ],
   "source": [
    "u.Maximum_likelihood()"
   ]
  },
  {
   "cell_type": "code",
   "execution_count": null,
   "metadata": {},
   "outputs": [],
   "source": []
  }
 ],
 "metadata": {
  "kernelspec": {
   "display_name": "Python 3",
   "language": "python",
   "name": "python3"
  },
  "language_info": {
   "codemirror_mode": {
    "name": "ipython",
    "version": 3
   },
   "file_extension": ".py",
   "mimetype": "text/x-python",
   "name": "python",
   "nbconvert_exporter": "python",
   "pygments_lexer": "ipython3",
   "version": "3.7.6"
  }
 },
 "nbformat": 4,
 "nbformat_minor": 5
}
