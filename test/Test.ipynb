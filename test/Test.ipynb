{
 "cells": [
  {
   "cell_type": "code",
   "execution_count": null,
   "id": "7e036e94",
   "metadata": {},
   "outputs": [],
   "source": [
    "from wham.Uwham import *\n",
    "from wham.lib.wham_utils import read_dat\n",
    "import numpy as np"
   ]
  },
  {
   "cell_type": "code",
   "execution_count": null,
   "id": "d988dbd0",
   "metadata": {},
   "outputs": [],
   "source": [
    "N = [-5.0, 0.0, 5.0, 10.0, 15.0, 20.0, 25.0, \"unbiased\"]\n",
    "Ntwiddle = np.array([-5,0,5,10,15,20,25,0])\n",
    "Ntwiddle = Ntwiddle[:,np.newaxis]"
   ]
  },
  {
   "cell_type": "code",
   "execution_count": null,
   "id": "39d68c44",
   "metadata": {},
   "outputs": [],
   "source": [
    "data_list = []\n",
    "Ni = []\n",
    "for n in N:\n",
    "    if n != \"unbiased\":\n",
    "        n, ntilde, _ = read_dat(\"nstar_{}\".format(n))\n",
    "        data_list.append(ntilde[500:])\n",
    "        Ni.append(ntilde[500:].shape[0])\n",
    "    else:\n",
    "        n, ntilde, _  = read_dat(\"unbiased\")\n",
    "        data_list.append(ntilde[500:])\n",
    "        Ni.append(ntilde[500:].shape[0])"
   ]
  },
  {
   "cell_type": "code",
   "execution_count": null,
   "id": "9897359a",
   "metadata": {},
   "outputs": [],
   "source": [
    "k = np.ones((len(N),1))*0.98\n",
    "k[-1] = 0"
   ]
  },
  {
   "cell_type": "code",
   "execution_count": null,
   "id": "ce22e5c4",
   "metadata": {},
   "outputs": [],
   "source": [
    "Ni = np.array(Ni)\n",
    "Ni = Ni[:,np.newaxis]\n",
    "Ntot = Ni.sum()"
   ]
  },
  {
   "cell_type": "code",
   "execution_count": null,
   "id": "c0dd9fb3",
   "metadata": {},
   "outputs": [],
   "source": [
    "u = Uwham(xi, k, Ntwiddle, Ni)"
   ]
  },
  {
   "cell_type": "code",
   "execution_count": null,
   "id": "5d76f492",
   "metadata": {},
   "outputs": [],
   "source": [
    "fk = np.zeros((len(N),))\n",
    "Uwham.gradient(fk, u.buji, Ni.flatten())"
   ]
  },
  {
   "cell_type": "code",
   "execution_count": null,
   "id": "6b03ce80",
   "metadata": {},
   "outputs": [],
   "source": [
    "-logsumexp(np.repeat(fk[:,np.newaxis],Ntot,axis=1)-u.buji,b=np.repeat(Ni.flatten()[:,np.newaxis],Ntot,axis=1),axis=0)"
   ]
  },
  {
   "cell_type": "code",
   "execution_count": null,
   "id": "2c3cda66",
   "metadata": {},
   "outputs": [],
   "source": [
    "p = np.repeat(fk[:,np.newaxis],Ntot,axis=1)-u.buji"
   ]
  },
  {
   "cell_type": "code",
   "execution_count": null,
   "id": "e68134fc",
   "metadata": {},
   "outputs": [],
   "source": [
    "Uwham.Hessian(fk, u.buji, Ni.flatten())"
   ]
  },
  {
   "cell_type": "code",
   "execution_count": null,
   "id": "fd46d7d0",
   "metadata": {},
   "outputs": [],
   "source": []
  }
 ],
 "metadata": {
  "kernelspec": {
   "display_name": "Python 3",
   "language": "python",
   "name": "python3"
  },
  "language_info": {
   "codemirror_mode": {
    "name": "ipython",
    "version": 3
   },
   "file_extension": ".py",
   "mimetype": "text/x-python",
   "name": "python",
   "nbconvert_exporter": "python",
   "pygments_lexer": "ipython3",
   "version": "3.8.8"
  }
 },
 "nbformat": 4,
 "nbformat_minor": 5
}
